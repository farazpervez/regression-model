{
 "cells": [
  {
   "cell_type": "code",
   "execution_count": 23,
   "id": "013e9af8",
   "metadata": {},
   "outputs": [],
   "source": [
    "#polynomial regression model\n",
    "import pandas as pd\n",
    "import numpy as np\n",
    "import matplotlib.pyplot as plt"
   ]
  },
  {
   "cell_type": "code",
   "execution_count": 24,
   "id": "7c09defe",
   "metadata": {},
   "outputs": [],
   "source": [
    "ds = pd.read_csv('50_startups.csv')\n",
    "x = ds.iloc[:,:-1] \n",
    "y = ds.iloc[:,-1]"
   ]
  },
  {
   "cell_type": "code",
   "execution_count": 25,
   "id": "b32173e9",
   "metadata": {},
   "outputs": [],
   "source": [
    "from sklearn.model_selection import train_test_split\n",
    "x_train,x_test,y_train,y_test = train_test_split(x,y,test_size=0.2,random_state=0)"
   ]
  },
  {
   "cell_type": "code",
   "execution_count": 26,
   "id": "6ff61821",
   "metadata": {},
   "outputs": [],
   "source": [
    "from sklearn.preprocessing import PolynomialFeatures\n",
    "rgr_pol = PolynomialFeatures(degree = 2)\n",
    "x_pol_train = rgr_pol.fit_transform(x_train)\n",
    "x_pol_test = rgr_pol.fit_transform(x_test)"
   ]
  },
  {
   "cell_type": "code",
   "execution_count": 27,
   "id": "2c7fa273",
   "metadata": {},
   "outputs": [],
   "source": [
    "from sklearn.linear_model import LinearRegression\n",
    "rgr_lin = LinearRegression()\n",
    "rgr_lin = rgr_lin.fit(x_pol_train,y_train)"
   ]
  },
  {
   "cell_type": "code",
   "execution_count": 28,
   "id": "95a49d51",
   "metadata": {},
   "outputs": [],
   "source": [
    "y_pred = rgr_lin.predict(x_pol_test)"
   ]
  },
  {
   "cell_type": "code",
   "execution_count": 29,
   "id": "758d78d4",
   "metadata": {},
   "outputs": [
    {
     "data": {
      "text/plain": [
       "array([104055.410525  , 133038.97681939, 132790.41574993,  72366.65819761,\n",
       "       180753.47707706, 121410.27078553,  66480.88516142, 100549.44023155,\n",
       "       118950.17510871, 169529.23853707])"
      ]
     },
     "execution_count": 29,
     "metadata": {},
     "output_type": "execute_result"
    }
   ],
   "source": [
    "y_pred"
   ]
  },
  {
   "cell_type": "code",
   "execution_count": 30,
   "id": "257760a0",
   "metadata": {},
   "outputs": [
    {
     "data": {
      "text/plain": [
       "28    103282.38\n",
       "11    144259.40\n",
       "10    146121.95\n",
       "41     77798.83\n",
       "2     191050.39\n",
       "27    105008.31\n",
       "38     81229.06\n",
       "31     97483.56\n",
       "22    110352.25\n",
       "4     166187.94\n",
       "Name: Profit, dtype: float64"
      ]
     },
     "execution_count": 30,
     "metadata": {},
     "output_type": "execute_result"
    }
   ],
   "source": [
    "y_test"
   ]
  },
  {
   "cell_type": "code",
   "execution_count": 31,
   "id": "a86f3d38",
   "metadata": {},
   "outputs": [
    {
     "name": "stdout",
     "output_type": "stream",
     "text": [
      "[103282.38       144259.4        146121.95        77798.83\n",
      " 191050.39       105008.31        81229.06        97483.56\n",
      " 110352.25       166187.94       104055.410525   133038.97681939\n",
      " 132790.41574993  72366.65819761 180753.47707706 121410.27078553\n",
      "  66480.88516142 100549.44023155 118950.17510871 169529.23853707]\n"
     ]
    }
   ],
   "source": [
    "print(np.concatenate((y_test,y_pred)))"
   ]
  },
  {
   "cell_type": "code",
   "execution_count": 34,
   "id": "31dc260a",
   "metadata": {},
   "outputs": [
    {
     "data": {
      "text/plain": [
       "0.9201823374095014"
      ]
     },
     "execution_count": 34,
     "metadata": {},
     "output_type": "execute_result"
    }
   ],
   "source": [
    "from sklearn.metrics import r2_score\n",
    "r2_score( y_test,y_pred)"
   ]
  },
  {
   "cell_type": "code",
   "execution_count": null,
   "id": "8bf950f6",
   "metadata": {},
   "outputs": [],
   "source": []
  },
  {
   "cell_type": "code",
   "execution_count": null,
   "id": "e5e4a10e",
   "metadata": {},
   "outputs": [],
   "source": []
  }
 ],
 "metadata": {
  "kernelspec": {
   "display_name": "Python 3 (ipykernel)",
   "language": "python",
   "name": "python3"
  },
  "language_info": {
   "codemirror_mode": {
    "name": "ipython",
    "version": 3
   },
   "file_extension": ".py",
   "mimetype": "text/x-python",
   "name": "python",
   "nbconvert_exporter": "python",
   "pygments_lexer": "ipython3",
   "version": "3.9.12"
  }
 },
 "nbformat": 4,
 "nbformat_minor": 5
}
