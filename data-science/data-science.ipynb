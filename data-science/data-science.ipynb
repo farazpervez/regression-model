{
 "cells": [
  {
   "cell_type": "code",
   "execution_count": 1,
   "id": "16deaa2d",
   "metadata": {},
   "outputs": [],
   "source": [
    "# Linear regression model\n",
    "import pandas as pd\n",
    "import numpy as np\n",
    "import matplotlib.pyplot as plt"
   ]
  },
  {
   "cell_type": "code",
   "execution_count": 2,
   "id": "85e2059d",
   "metadata": {},
   "outputs": [],
   "source": [
    "ds = pd.read_csv('50_startups.csv')"
   ]
  },
  {
   "cell_type": "code",
   "execution_count": 3,
   "id": "4c5aca38",
   "metadata": {},
   "outputs": [],
   "source": [
    "x = ds.iloc[:,:-1] \n",
    "y = ds.iloc[:,-1]\n"
   ]
  },
  {
   "cell_type": "code",
   "execution_count": 4,
   "id": "10ad2aef",
   "metadata": {},
   "outputs": [],
   "source": [
    "from sklearn.model_selection import train_test_split\n",
    "x_train,x_test,y_train,y_test = train_test_split(x,y,test_size=0.3,random_state=2)"
   ]
  },
  {
   "cell_type": "code",
   "execution_count": 5,
   "id": "4083572e",
   "metadata": {},
   "outputs": [],
   "source": [
    "from sklearn.linear_model import LinearRegression\n",
    "rgr = LinearRegression()\n",
    "rgr = rgr.fit(x_train,y_train)\n",
    "#y_pred = rgr.predict(x_test)"
   ]
  },
  {
   "cell_type": "code",
   "execution_count": 6,
   "id": "35e2f4d3",
   "metadata": {},
   "outputs": [
    {
     "name": "stdout",
     "output_type": "stream",
     "text": [
      "[ 75322.5  47050.3  98891.9 155635.6 126861.3 190773.8  63904.   56309.8\n",
      "  86552.7 110821.1 115468.8  54724.9 128839.  129017.6 113662.8  90708.2\n",
      "  42559.7 103282.4 149760.  134307.4 192261.8  65200.3  49490.8  81005.8\n",
      " 108734.  108552.   35673.4 125370.4 141585.5 105008.3]\n"
     ]
    }
   ],
   "source": [
    "y_pred = rgr.predict(x_test)\n",
    "np.set_printoptions(precision =1)\n",
    "print(np.concatenate((y_pred,y_test),0))"
   ]
  },
  {
   "cell_type": "code",
   "execution_count": 7,
   "id": "91318b89",
   "metadata": {},
   "outputs": [
    {
     "name": "stdout",
     "output_type": "stream",
     "text": [
      "[ 0.8 -0.1  0. ]\n"
     ]
    }
   ],
   "source": [
    "print(rgr.coef_)"
   ]
  },
  {
   "cell_type": "code",
   "execution_count": 8,
   "id": "5053dd4d",
   "metadata": {},
   "outputs": [
    {
     "name": "stdout",
     "output_type": "stream",
     "text": [
      "58761.78476473377\n"
     ]
    }
   ],
   "source": [
    "print(rgr.intercept_)"
   ]
  },
  {
   "cell_type": "code",
   "execution_count": 9,
   "id": "7efb737c",
   "metadata": {},
   "outputs": [
    {
     "name": "stdout",
     "output_type": "stream",
     "text": [
      "[58768.9]\n"
     ]
    },
    {
     "name": "stderr",
     "output_type": "stream",
     "text": [
      "C:\\Users\\Faraz\\anaconda3\\lib\\site-packages\\sklearn\\base.py:450: UserWarning: X does not have valid feature names, but LinearRegression was fitted with feature names\n",
      "  warnings.warn(\n"
     ]
    }
   ],
   "source": [
    "print(rgr.predict([[10,13,7]]))"
   ]
  },
  {
   "cell_type": "code",
   "execution_count": 11,
   "id": "a4082a23",
   "metadata": {},
   "outputs": [
    {
     "data": {
      "text/plain": [
       "0.9578888373697602"
      ]
     },
     "execution_count": 11,
     "metadata": {},
     "output_type": "execute_result"
    }
   ],
   "source": [
    "from sklearn.metrics import r2_score\n",
    "r2_score( y_test,y_pred)"
   ]
  },
  {
   "cell_type": "code",
   "execution_count": null,
   "id": "ee5160ad",
   "metadata": {},
   "outputs": [],
   "source": []
  }
 ],
 "metadata": {
  "kernelspec": {
   "display_name": "Python 3 (ipykernel)",
   "language": "python",
   "name": "python3"
  },
  "language_info": {
   "codemirror_mode": {
    "name": "ipython",
    "version": 3
   },
   "file_extension": ".py",
   "mimetype": "text/x-python",
   "name": "python",
   "nbconvert_exporter": "python",
   "pygments_lexer": "ipython3",
   "version": "3.9.12"
  }
 },
 "nbformat": 4,
 "nbformat_minor": 5
}
